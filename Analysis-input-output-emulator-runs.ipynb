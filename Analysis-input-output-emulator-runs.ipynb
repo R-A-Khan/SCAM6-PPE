{
 "cells": [
  {
   "cell_type": "code",
   "execution_count": null,
   "metadata": {},
   "outputs": [],
   "source": [
    "# Packages\n",
    "import numpy as np\n",
    "import netCDF4 as nc\n",
    "import xarray as xr\n",
    "import nc_time_axis\n",
    "import matplotlib.pyplot as plt"
   ]
  },
  {
   "cell_type": "code",
   "execution_count": null,
   "metadata": {},
   "outputs": [],
   "source": [
    "# Checking updated input data files for three random ensemble members\n",
    "file_iop1 ='/.../input_case__13.nc'\n",
    "file_iop2 ='/.../input_case__254.nc'\n",
    "file_iop3 ='/.../input_case__515.nc'\n",
    "\n",
    "ds_iop1  = xr.open_mfdataset(file_iop1)\n",
    "ds_iop2  = xr.open_mfdataset(file_iop2)\n",
    "ds_iop3  = xr.open_mfdataset(file_iop3)\n",
    "\n",
    "file_iop ='/proj/.../unperturbed_input_file'\n",
    "ds_iop  = xr.open_mfdataset(file_iop)"
   ]
  },
  {
   "cell_type": "code",
   "execution_count": null,
   "metadata": {},
   "outputs": [],
   "source": [
    "a=25\n",
    "plt.rcParams[\"figure.figsize\"] = (10,10)\n",
    "ds_iop['T'][0,a:,0,0].plot(y='lev',yincrease=False, label='unperturbed')\n",
    "ds_iop1['T'][0,a:,0,0].plot(y='lev',yincrease=False, label='Mbr 13')\n",
    "ds_iop2['T'][0,a:,0,0].plot(y='lev',yincrease=False, label='Mbr 254')\n",
    "ds_iop3['T'][0,a:,0,0].plot(y='lev',yincrease=False, label='Mbr 515')\n",
    "\n",
    "plt.legend()\n"
   ]
  },
  {
   "cell_type": "code",
   "execution_count": null,
   "metadata": {},
   "outputs": [],
   "source": [
    "# Calculating the relative humidity profile\n",
    "\n",
    "T_prof = np.array(ds_iop['T'][0,:,0,0].values)\n",
    "lev = ds_iop['lev'][:].values\n",
    "w_prof = ds_iop['q'][0,:,0,0].values\n",
    "e_s_prof = 611*( np.exp(17.67*(T_prof-273.16)/(T_prof-29.66)) ) # saturation vapour pressure in kPa\n",
    "w_s_prof = 0.622*e_s_prof/(lev-e_s_prof)\n",
    "RH_prof = 100*w_prof/w_s_prof\n"
   ]
  },
  {
   "cell_type": "code",
   "execution_count": null,
   "metadata": {},
   "outputs": [],
   "source": [
    "a=25\n",
    "lev = ds_iop['lev'].values\n",
    "plt.rcParams[\"figure.figsize\"] = (22,10)\n",
    "fig, axes = plt.subplots(ncols=3)\n",
    "\n",
    "ds_iop['T'][0,a:,0,0].plot(y='lev',yincrease=False, ax=axes[0], label='unperturbed')\n",
    "ds_iop1['T'][0,a:,0,0].plot(y='lev',yincrease=False, ax=axes[0],label='Mbr 13')\n",
    "ds_iop2['T'][0,a:,0,0].plot(y='lev',yincrease=False, ax=axes[0], label='Mbr 254')\n",
    "ds_iop3['T'][0,a:,0,0].plot(y='lev',yincrease=False, ax=axes[0], label='Mbr 515')\n",
    "\n",
    "ds_iop['q'][0,a:,0,0].plot(y='lev',yincrease=False, ax=axes[1], label='unperturbed')\n",
    "ds_iop1['q'][0,a:,0,0].plot(y='lev',yincrease=False, ax=axes[1])\n",
    "ds_iop2['q'][0,a:,0,0].plot(y='lev',yincrease=False, ax=axes[1])\n",
    "ds_iop3['q'][0,a:,0,0].plot(y='lev',yincrease=False, ax=axes[1])\n",
    "\n",
    "axes[2].plot(RH_prof[a:], lev[a:] , label='unperturbed')\n",
    "axes[2].set_ylim([max(lev),lev[a]])\n",
    "ds_iop1['RH_n'][a:].plot(y='lev',yincrease=False, ax=axes[2])\n",
    "ds_iop2['RH_n'][a:].plot(y='lev',yincrease=False, ax=axes[2])\n",
    "ds_iop3['RH_n'][a:].plot(y='lev',yincrease=False, ax=axes[2])\n",
    "\n",
    "axes[0].legend()\n",
    "axes[1].legend()\n",
    "axes[2].legend()\n",
    "axes[0].set_title(\"IOP \"+ds_iop['T'].long_name)\n",
    "axes[1].set_title(\"IOP \"+ds_iop['q'].long_name)\n",
    "axes[2].set_title(\"IOP Relative Humidity\")\n"
   ]
  },
  {
   "cell_type": "markdown",
   "metadata": {},
   "source": [
    "# Looking at output profiles for single emulator run"
   ]
  },
  {
   "cell_type": "code",
   "execution_count": null,
   "metadata": {},
   "outputs": [],
   "source": [
    "file_dir = '/path_to_directory/'\n",
    "\n",
    "job_str1 = str(12)\n",
    "job_str2 = str(253)\n",
    "job_str3 = str(514)\n",
    "\n",
    "case_version = 4.3\n",
    "\n",
    "file1 = file_dir+'EM_'+str(case_version)+'_CASE_'+job_str1+'/atm/hist/EM_'+str(case_version)+'_CASE_'+job_str1+'.cam.h0.1999-07-11-00000.nc'\n",
    "file2 = file_dir+'EM_'+str(case_version)+'_CASE_'+job_str2+'/atm/hist/EM_'+str(case_version)+'_CASE_'+job_str2+'.cam.h0.1999-07-11-00000.nc'\n",
    "file3 = file_dir+'EM_'+str(case_version)+'_CASE_'+job_str3+'/atm/hist/EM_'+str(case_version)+'_CASE_'+job_str3+'.cam.h0.1999-07-11-00000.nc'"
   ]
  },
  {
   "cell_type": "code",
   "execution_count": null,
   "metadata": {},
   "outputs": [],
   "source": [
    "file4 = file_dir+'Emulator_Base_Case'+'/atm/hist/Emulator_Base_Case'+'.cam.h0.1999-07-11-00000.nc'"
   ]
  },
  {
   "cell_type": "code",
   "execution_count": null,
   "metadata": {},
   "outputs": [],
   "source": [
    "ds4 = xr.open_mfdataset(file4)"
   ]
  },
  {
   "cell_type": "code",
   "execution_count": null,
   "metadata": {},
   "outputs": [],
   "source": [
    "ds1 = xr.open_mfdataset(file1)\n",
    "ds2 = xr.open_mfdataset(file2)\n",
    "ds3 = xr.open_mfdataset(file3)\n",
    "time = np.array(ds1['time'])"
   ]
  },
  {
   "cell_type": "code",
   "execution_count": null,
   "metadata": {},
   "outputs": [],
   "source": [
    "ds1"
   ]
  },
  {
   "cell_type": "markdown",
   "metadata": {
    "scrolled": false
   },
   "source": [
    "# Plot of single profile of Variable"
   ]
  },
  {
   "cell_type": "code",
   "execution_count": null,
   "metadata": {},
   "outputs": [],
   "source": [
    "plt.rcParams[\"figure.figsize\"] = (14, 7)\n",
    "varn=['FSNTOA', 'FSNTOAC', 'FLNT', 'FLNTC','TGCLDCWP', 'T', 'Q', 'CLOUDFRAC_CLUBB', 'RELHUM', 'CLDLIQ']\n",
    "k = 4\n",
    "name = 'humidity_profile'\n",
    "\n",
    "ds4[varn[k]].plot(label='Unperturbed')\n",
    "ds1[varn[k]].plot(label='13')\n",
    "ds2[varn[k]].plot(label='254')\n",
    "ds3[varn[k]].plot(label='515')\n",
    "\n",
    "# ds4[varn[k]].plot(label='Unperturbed')\n",
    "\n",
    "plt.legend()\n",
    "plt.title(ds1[varn[k]].long_name)\n",
    "# plt.savefig(str(name)+'.png')"
   ]
  },
  {
   "cell_type": "code",
   "execution_count": null,
   "metadata": {},
   "outputs": [],
   "source": [
    "plt.rcParams[\"figure.figsize\"] = (24, 7)\n",
    "varn=['FSNTOA', 'FSNTOAC', 'FLNT', 'FLNTC','TGCLDCWP', 'T', 'Q', 'CLOUD', 'RELHUM', 'CLDICE']\n",
    "k = 7\n",
    "fig, axes = plt.subplots(ncols=4)\n",
    "alt = 25\n",
    "t1= 69\n",
    "t2=142\n",
    "\n",
    "\n",
    "ds1[varn[k]][t1:t2,alt:,0,0].plot(y='lev',yincrease=False, label='Stable', ax=axes[0])\n",
    "\n",
    "ds2[varn[k]][t1:t2,alt:,0,0].plot(y='lev',yincrease=False, label='Unstable', ax=axes[1])\n",
    "\n",
    "ds3[varn[k]][t1:t2,alt:,0,0].plot(y='lev',yincrease=False, label='Unperturbed', ax=axes[2])\n",
    "\n",
    "ds4[varn[k]][t1:t2,alt:,0,0].plot(y='lev',yincrease=False, label='Unperturbed', ax=axes[3])\n",
    "plt.tight_layout()\n",
    "\n",
    "axes[0].set_title(ds1[varn[k]].long_name+ '  1: Mbr 13')\n",
    "axes[1].set_title(ds1[varn[k]].long_name+ '2: Mbr 254')\n",
    "axes[2].set_title(ds1[varn[k]].long_name+ ' 3: Mbr 515')\n",
    "axes[3].set_title(ds1[varn[k]].long_name+ ' Unperturbed')\n",
    "\n"
   ]
  },
  {
   "cell_type": "code",
   "execution_count": null,
   "metadata": {},
   "outputs": [],
   "source": [
    "# MEAN PROFILES\n",
    "\n",
    "plt.rcParams[\"figure.figsize\"] = (24, 7)\n",
    "varn=['FSNTOA', 'FSNTOAC', 'FLNT', 'FLNTC','TGCLDCWP', 'T', 'Q', 'CLOUD', 'RELHUM', 'CLDICE']\n",
    "k = 7\n",
    "fig, axes = plt.subplots(ncols=4)\n",
    "alt = 25\n",
    "t1= 69\n",
    "t2=142\n",
    "\n",
    "\n",
    "ds1[varn[k]].mean([\"time\"])[alt:,0,0].plot(y='lev',yincrease=False, label='Stable', ax=axes[0])\n",
    "\n",
    "ds2[varn[k]].mean([\"time\"])[alt:,0,0].plot(y='lev',yincrease=False, label='Unstable', ax=axes[1])\n",
    "\n",
    "ds3[varn[k]].mean([\"time\"])[alt:,0,0].plot(y='lev',yincrease=False, label='Unperturbed', ax=axes[2])\n",
    "\n",
    "ds4[varn[k]].mean([\"time\"])[alt:,0,0].plot(y='lev',yincrease=False, label='Unperturbed', ax=axes[3])\n",
    "\n",
    "plt.tight_layout()\n",
    "\n",
    "axes[0].set_title(ds1[varn[k]].long_name+ '  1: Mbr 13')\n",
    "axes[1].set_title(ds1[varn[k]].long_name+ '2: Mbr 254')\n",
    "axes[2].set_title(ds1[varn[k]].long_name+ ' 3: Mbr 515')\n",
    "axes[3].set_title(ds1[varn[k]].long_name+ ' Unperturbed')\n",
    "\n"
   ]
  },
  {
   "cell_type": "code",
   "execution_count": null,
   "metadata": {},
   "outputs": [],
   "source": [
    "varn=['FSNTOA', 'FSNTOAC', 'FLNT', 'FLNTC','TGCLDIWP', 'T', 'Q', 'CLOUD', 'RELHUM', 'CLDICE']\n",
    "k = 5\n",
    "alt = 22\n",
    "plt.rcParams[\"figure.figsize\"] = (7, 7)\n",
    "ds1[varn[k]][0,alt:,0,0].plot(y='lev',yincrease=False, label='1')\n",
    "ds2[varn[k]][0,alt:,0,0].plot(y='lev',yincrease=False, label='2')\n",
    "ds3[varn[k]][0,alt:,0,0].plot(y='lev',yincrease=False, label='3')\n",
    "ds4[varn[k]][0,alt:,0,0].plot(y='lev',yincrease=False, label='Unperturbed')\n",
    "plt.title(ds1[varn[k]].long_name+' 1st timestep')\n",
    "plt.legend()"
   ]
  },
  {
   "cell_type": "code",
   "execution_count": null,
   "metadata": {
    "scrolled": false
   },
   "outputs": [],
   "source": [
    "plt.rcParams[\"figure.figsize\"] = (22, 7)\n",
    "varn=['FSNTOA', 'FSNTOAC', 'FLNT', 'FLNTC','TGCLDCWP', 'T', 'Q', 'CLOUD', 'RELHUM']\n",
    "k = 7\n",
    "alt = 25\n",
    "fig, axes = plt.subplots(ncols=3)\n",
    "\n",
    "ds1[varn[k]][0,alt:,0,0].plot(y='lev',yincrease=False, label='1', ax=axes[0])\n",
    "ds2[varn[k]][0,alt:,0,0].plot(y='lev',yincrease=False, label='2', ax=axes[0])\n",
    "ds3[varn[k]][0,alt:,0,0].plot(y='lev',yincrease=False, label='3', ax=axes[0])\n",
    "ds4[varn[k]][0,alt:,0,0].plot(y='lev',yincrease=False, label='Unperturbed', ax=axes[0])\n",
    "axes[0].legend()\n",
    "\n",
    "ds1[varn[k]][72,alt:,0,0].plot(y='lev',yincrease=False, label='1', ax=axes[1])\n",
    "ds2[varn[k]][72,alt:,0,0].plot(y='lev',yincrease=False, label='2', ax=axes[1])\n",
    "ds3[varn[k]][72,alt:,0,0].plot(y='lev',yincrease=False, label='3', ax=axes[1])\n",
    "ds4[varn[k]][72,alt:,0,0].plot(y='lev',yincrease=False, label='Unperturbed', ax=axes[1])\n",
    "axes[1].legend()\n",
    "\n",
    "ds1[varn[k]][-1,alt:,0,0].plot(y='lev',yincrease=False, label='1', ax=axes[2])\n",
    "ds2[varn[k]][-1,alt:,0,0].plot(y='lev',yincrease=False, label='2', ax=axes[2])\n",
    "ds3[varn[k]][72,alt:,0,0].plot(y='lev',yincrease=False, label='3', ax=axes[2])\n",
    "ds4[varn[k]][-1,alt:,0,0].plot(y='lev',yincrease=False, label='Unperturbed', ax=axes[2])\n",
    "plt.legend()\n",
    "\n",
    "\n",
    "axes[0].set_title(ds1[varn[k]].long_name+' 1st timestep')\n",
    "axes[1].set_title(ds1[varn[k]].long_name+ ' Median timestep ')\n",
    "axes[2].set_title(ds1[varn[k]].long_name+ ' Last timestep ')"
   ]
  },
  {
   "cell_type": "code",
   "execution_count": null,
   "metadata": {},
   "outputs": [],
   "source": [
    "ds1['CLOUD'][:,0:,0,0].shape\n",
    "np.max(np.max(ds1['CLOUD'][:,0:,0,0].values, axis=1))"
   ]
  },
  {
   "cell_type": "markdown",
   "metadata": {},
   "source": [
    "## CALCULATING RADIATIVE FORCING BETWEEN PREINDUSTRIAL AND MODERN FOR EACH CASE"
   ]
  },
  {
   "cell_type": "code",
   "execution_count": null,
   "metadata": {},
   "outputs": [],
   "source": [
    "# First row of indices are those where the simulation failed for that combination of perturbed input parameters\n",
    "# Second row of indices are those where the output forcing values were unstable\n",
    "ind_r = (np.array([635,636,637,638,639,640]) - np.ones([1])).astype(np.int)   \n",
    "ind_em = np.delete(np.arange(1,641), ind_r)\n",
    "print(ind_em)\n",
    "\n",
    "# ind_em = np.delete(ind_em,np.array([   1,   5,   7,  13,  19,  20,  26,  28,  29,  35,  36,  38,  39,\\\n",
    "#         44,  45,  52,  54,  55,  59,  65,  69,  74,  76,  78,  89,  91,\\\n",
    "#         95,  99, 100, 101, 102, 105, 106, 107, 109, 114, 117, 118, 126,\\\n",
    "#        131, 133, 134, 135, 139, 144, 145, 147, 149, 150, 152, 154, 156,\\\n",
    "#        157, 159, 161, 162, 167, 172, 173, 177, 183, 191, 198, 200, 201,\\\n",
    "#        203, 211, 215, 219, 222, 225, 226, 228, 229, 236, 237, 242, 247,\\\n",
    "#        251, 257, 258, 262, 274, 279, 280, 282, 288, 289, 296, 298, 299,\\\n",
    "#        301, 308, 311, 314, 315, 322, 326, 329, 331, 332, 338, 341, 342,\\\n",
    "#        352, 353, 354, 355, 361, 362, 363, 366, 368, 372, 378, 380, 384,\\\n",
    "#        385, 389, 392, 395, 402, 404, 405, 408, 410, 414, 416, 422, 424,\\\n",
    "#        426, 430, 432, 434, 436, 438, 439, 441, 451, 453, 467, 470, 477,\\\n",
    "#        480, 481, 486, 487, 492, 494, 495, 498, 504, 513, 516, 517, 518,\\\n",
    "#        519, 523, 525, 527, 530, 533, 539, 540, 543, 545, 548, 549, 550,\\\n",
    "#        552, 554, 559, 561, 562, 566, 567, 568, 569, 578, 580, 587, 590,\\\n",
    "#        591, 592, 595, 599, 611, 615, 618, 621, 625, 626, 629, 630, 631,\\\n",
    "#        633]).astype(np.int))\n",
    "# print(ind_em)\n",
    "ind_em.shape\n",
    "\n",
    "\n",
    "\n"
   ]
  },
  {
   "cell_type": "code",
   "execution_count": null,
   "metadata": {},
   "outputs": [],
   "source": [
    "# CALCULATE THE TOTAL FORCING FOR shortwave and longwave flux\n",
    "m = len(ind_em)\n",
    "fsntoa = np.zeros((m,73))\n",
    "fsntoa_p = np.zeros((m,73))\n",
    "\n",
    "flnt = np.zeros((m,73))\n",
    "flnt_p = np.zeros((m,73))\n",
    "\n",
    "fsntoa_vals_d = [None]*m\n",
    "fsntoa_vals_pss_d = [None]*m\n",
    "\n",
    "flnt_vals_d = [None]*m\n",
    "flnt_vals_pss_d = [None]*m\n",
    "\n",
    "\n",
    "# Average over a 24 hr cycle from 12-07-97 23:00 to 13-07-97 23:00\n",
    "fsntoa_forc_vals_d = [None]*m\n",
    "flnt_forc_vals_d = [None]*m\n",
    "\n",
    "av_cf_max = [None]*m\n",
    "lwc_mean = [None]*m\n",
    "lwc_mean_PSS = [None]*m\n",
    "lwc_std_PSS = [None]*m\n",
    "lwc_std = [None]*m\n",
    "\n",
    "fsntoa_forcing_v2 = [None]*m\n",
    "flnt_forcing_v2 = [None]*m\n",
    "\n",
    "cloud_layers = [None]*m\n",
    "cloud_levels = [None]*m\n",
    "\n",
    "file= [None]*m\n",
    "filep= [None]*m\n"
   ]
  },
  {
   "cell_type": "code",
   "execution_count": null,
   "metadata": {
    "scrolled": true
   },
   "outputs": [],
   "source": [
    "tmin = 69\n",
    "tmax = 142\n",
    "\n",
    "for k in np.arange(0,m):\n",
    "    file[k] = file_dir+'EM_'+str(case_version)+'_CASE_'+str(ind_em[k])+'/atm/hist/EM_'+str(case_version)+'_CASE_'+str(ind_em[k])+'.cam.h0.1999-07-11-00000.nc'\n",
    "    print(file[k])\n",
    "    filep[k] = file_dir+'EM_'+str(case_version)+'_PSS_CASE_'+str(ind_em[k])+'/atm/hist/EM_'+str(case_version)+'_PSS_CASE_'+str(ind_em[k])+'.cam.h0.1999-07-11-00000.nc'\n",
    "    print(filep[k]+\"\\n\")\n",
    "    \n",
    "    ds  = xr.open_mfdataset(file[k])\n",
    "    dsp  = xr.open_mfdataset(filep[k])\n",
    "    \n",
    "    fsntoa[k,:] = np.array(ds['FSNTOA'][tmin:tmax,0,0].values)\n",
    "    fsntoa_p[k,:] = np.array(dsp['FSNTOA'][tmin:tmax,0,0].values)\n",
    "    fsntoa_forc_vals_d[k] = np.trapz(fsntoa[k,:] - fsntoa_p[k,:], dx=1/3)\n",
    "    \n",
    "    flnt[k,:] = np.array(ds['FLNT'][tmin:tmax,0,0].values)\n",
    "    flnt_p[k,:] = np.array(dsp['FLNT'][tmin:tmax,0,0].values)\n",
    "    flnt_forc_vals_d[k] = np.trapz(flnt[k,:] - flnt_p[k,:], dx=1/3)\n",
    "    \n",
    "    av_cf_max[k]= np.max(np.max(ds['CLOUD'][tmin:tmax,0:,0,0].values, axis=1))\n",
    "    \n",
    "    lwc_mean[k] = np.mean(ds['TGCLDCWP'][tmin:tmax,0,0].values)\n",
    "    lwc_std[k] = np.std(ds['TGCLDCWP'][tmin:tmax,0,0].values)\n",
    "    \n",
    "    lwc_mean_PSS[k] = np.mean(dsp['TGCLDCWP'][tmin:tmax,0,0].values)\n",
    "    lwc_std_PSS[k] = np.std(dsp['TGCLDCWP'][tmin:tmax,0,0].values)\n",
    "    \n",
    "    # Calculate radiative forcing for each run (at each time step)\n",
    "    \n",
    "    fsntoa_vals_d[k] = np.trapz(np.array(ds['FSNTOA'][tmin:tmax,0,0].values), dx=1/3)\n",
    "    fsntoa_vals_pss_d[k] = np.trapz(np.array(dsp['FSNTOA'][tmin:tmax,0,0].values), dx=1/3)\n",
    "    fsntoa_forcing_v2[k] = fsntoa_vals_d[k] - fsntoa_vals_pss_d[k]\n",
    "    \n",
    "    flnt_vals_d[k] = np.trapz(np.array(ds['FLNT'][tmin:tmax,0,0].values), dx=1/3)\n",
    "    flnt_vals_pss_d[k] = np.trapz(np.array(dsp['FLNT'][tmin:tmax,0,0].values), dx=1/3)\n",
    "    flnt_forcing_v2[k] = flnt_vals_d[k] - flnt_vals_pss_d[k]\n",
    "    \n",
    "    cloud_levels[k] = np.array(np.where(ds['CLOUD'].mean([\"time\"])[:,0,0].values>1e-2))\n",
    "    print(cloud_levels[k])\n",
    "    \n",
    "    if cloud_levels[k].shape[1]==1:\n",
    "        cloud_layers[k] = 1\n",
    "    elif cloud_levels[k].shape[1] ==2:\n",
    "        cloud_layers[k] = 2\n",
    "    else:\n",
    "        cloud_layers[k] = 3\n",
    "    print(cloud_layers[k])\n",
    "    \n",
    "    \n",
    "    \n",
    "    del ds\n",
    "    del dsp\n",
    "    \n",
    "    \n",
    "    \n",
    "   "
   ]
  },
  {
   "cell_type": "code",
   "execution_count": null,
   "metadata": {},
   "outputs": [],
   "source": [
    "plt.rcParams[\"figure.figsize\"] = (22, 7)\n",
    "plt.plot(fsntoa_forc_vals_d)\n",
    "fsntoa_forc_vals_d = np.array(fsntoa_forc_vals_d)\n",
    "fsntoa_ed = np.delete(fsntoa_forc_vals_d, np.where(fsntoa_forc_vals_d>2500))\n",
    "plt.plot(fsntoa_ed)\n",
    "print(fsntoa_ed.shape)\n",
    "print(np.where(fsntoa_forc_vals_d>2500))"
   ]
  },
  {
   "cell_type": "code",
   "execution_count": null,
   "metadata": {
    "scrolled": true
   },
   "outputs": [],
   "source": [
    "plt.plot(lwc_mean, label = 'Modern')\n",
    "plt.plot(lwc_mean_PSS,label = 'Preindustrial')\n",
    "plt.legend()\n"
   ]
  },
  {
   "cell_type": "code",
   "execution_count": null,
   "metadata": {},
   "outputs": [],
   "source": [
    "plt.rcParams[\"figure.figsize\"] = (22, 12)\n",
    "plt.plot(lwc_std, label = 'Modern')\n",
    "plt.plot(lwc_std_PSS,label = 'Preindustrial')\n",
    "plt.legend()\n"
   ]
  },
  {
   "cell_type": "markdown",
   "metadata": {},
   "source": [
    "### Filtering for unstable case runs"
   ]
  },
  {
   "cell_type": "code",
   "execution_count": null,
   "metadata": {},
   "outputs": [],
   "source": [
    "# Remove cases with LWC mean = 0\n",
    "lwc_mean = np.array(lwc_mean)\n",
    "ind_mean_filt = np.array(np.where(lwc_mean<0.06))\n",
    "\n",
    "print(ind_mean_filt)\n",
    "print(ind_mean_filt.shape)"
   ]
  },
  {
   "cell_type": "code",
   "execution_count": null,
   "metadata": {},
   "outputs": [],
   "source": [
    "# Remove unstable cases with LWC std > 0.01\n",
    "lwc_std = np.array(lwc_std)\n",
    "ind_std_filt = np.array(np.where(lwc_std>0.01))\n",
    "\n",
    "print(ind_std_filt)\n",
    "print(ind_std_filt.shape)"
   ]
  },
  {
   "cell_type": "code",
   "execution_count": null,
   "metadata": {},
   "outputs": [],
   "source": [
    "#  Remove cases with single cloud layer\n",
    "cloud_layers = np.array(cloud_layers)\n",
    "ind_singcl_filt = np.array(np.where(cloud_layers==1))\n",
    "print(ind_singcl_filt)"
   ]
  },
  {
   "cell_type": "code",
   "execution_count": null,
   "metadata": {},
   "outputs": [],
   "source": [
    "del_ind = np.unique(np.concatenate((np.ndarray.flatten(ind_mean_filt),np.ndarray.flatten(ind_std_filt), np.ndarray.flatten(ind_singcl_filt)),axis=0))"
   ]
  },
  {
   "cell_type": "code",
   "execution_count": null,
   "metadata": {},
   "outputs": [],
   "source": [
    "del_ind = np.array(del_ind).astype(int)\n",
    "print(del_ind)\n",
    "print(del_ind.shape)"
   ]
  },
  {
   "cell_type": "code",
   "execution_count": null,
   "metadata": {},
   "outputs": [],
   "source": [
    "fsntoa_forc_vals_d_ed = np.delete(fsntoa_forc_vals_d, del_ind)\n",
    "fsntoa_vals_d = np.delete(fsntoa_vals_d, del_ind)\n",
    "fsntoa_vals_pss_d = np.delete(fsntoa_vals_pss_d, del_ind)\n",
    "\n",
    "flnt_forc_vals_d_ed = np.delete(flnt_forc_vals_d, del_ind)\n",
    "flnt_vals_d = np.delete(flnt_vals_d, del_ind)\n",
    "flnt_vals_pss_d = np.delete(flnt_vals_pss_d, del_ind)\n"
   ]
  },
  {
   "cell_type": "code",
   "execution_count": null,
   "metadata": {},
   "outputs": [],
   "source": [
    "plt.rcParams[\"figure.figsize\"] = (22, 7)\n",
    "plt.plot(fsntoa_forc_vals_d)\n",
    "plt.plot(fsntoa_forc_vals_d_ed)"
   ]
  },
  {
   "cell_type": "code",
   "execution_count": null,
   "metadata": {
    "scrolled": true
   },
   "outputs": [],
   "source": [
    "for k in np.array(np.where(fsntoa_forc_vals_d>2500)).astype(int):\n",
    "    print(k)\n",
    "np.array(np.where(fsntoa_forc_vals_d>2500)).shape"
   ]
  },
  {
   "cell_type": "code",
   "execution_count": null,
   "metadata": {},
   "outputs": [],
   "source": [
    "for k in np.array(np.where(lwc_mean<0.04)).astype(int):\n",
    "    print(k)\n",
    "np.array(np.where(lwc_mean<0.045)).shape"
   ]
  },
  {
   "cell_type": "code",
   "execution_count": null,
   "metadata": {},
   "outputs": [],
   "source": [
    "fig, axes = plt.subplots(nrows=2)\n",
    "\n",
    "plt.rcParams[\"figure.figsize\"] = (22, 10)\n",
    "axes[1].plot(fsntoa_forc_vals_d)\n",
    "axes[1].set_title('FSNTOA')\n",
    "axes[0].plot(lwc_mean)\n",
    "axes[0].set_title('CLOUD WATER MEAN')"
   ]
  },
  {
   "cell_type": "code",
   "execution_count": null,
   "metadata": {},
   "outputs": [],
   "source": [
    "np.save('diurn_11-23utc-12-23utc_fsntoa_forc_ed_'+str(case_version)+'.2', fsntoa_forc_vals_d_ed)\n",
    "np.save('diurn_11-23utc-12-23utc_fsntoa_forc_ed_'+str(case_version)+'.2', flnt_forc_vals_d_ed)\n",
    "\n",
    "\n",
    "np.save('diurn_11-23utc-12-23utc_fsntoa_all_t_'+str(case_version)+'.3',fsntoa)\n",
    "np.save('diurn_11-23utc-12-23utc_fsntoa_PSS_all_t_'+str(case_version)+'.3', fsntoa_p)\n",
    "\n",
    "np.save('diurn_11-23utc-12-23utc_fsntoa_'+str(case_version)+'.3',fsntoa_vals_d)\n",
    "np.save('diurn_11-23utc-12-23utc_fsntoa_PSS_'+str(case_version)+'.3', fsntoa_vals_pss_d)\n",
    "\n",
    "np.save('diurn_11-23utc-12-23utc_flnt_'+str(case_version)+'.3',flnt_vals_d)\n",
    "np.save('diurn_11-23utc-12-23utc_flnt_PSS_'+str(case_version)+'.3', flnt_vals_pss_d)\n",
    "\n",
    "np.save('diurn_11-23utc-12-23utc_fsntoa_forc_'+str(case_version)+'.3',fsntoa_forc_vals_d)\n",
    "np.save('diurn_11-23utc-12-23utc_flnt_forc_'+str(case_version)+'.3', flnt_forc_vals_d)\n",
    "\n",
    "np.save('diurn_11-23utc-12-23utc_fsntoa_forc_v2_'+str(case_version)+'.3', fsntoa_forcing_v2)\n",
    "np.save('diurn_11-23utc-12-23utc_flnt_forc_v2_'+str(case_version)+'.3', flnt_forcing_v2)\n",
    "\n",
    "np.save('diurn_11-23utc-12-23utc_av_cf_max_'+str(case_version)+'.3', av_cf_max)"
   ]
  },
  {
   "cell_type": "code",
   "execution_count": null,
   "metadata": {},
   "outputs": [],
   "source": [
    "filt_fsntoa = ['Filtered']*m"
   ]
  },
  {
   "cell_type": "code",
   "execution_count": null,
   "metadata": {},
   "outputs": [],
   "source": [
    "for k in del_ind:\n",
    "    filt_fsntoa[k] = 'Unfiltered'"
   ]
  },
  {
   "cell_type": "code",
   "execution_count": null,
   "metadata": {},
   "outputs": [],
   "source": [
    "class_forcing = [None]*m\n",
    "for k in np.arange(0,641):\n",
    "    if fsntoa_forc_vals_d[k]<2500:\n",
    "        print(k)\n",
    "        class_forcing[k]='below 2500'\n",
    "#         class_forcing[k]='below 4000'\n",
    "    else:\n",
    "        class_forcing[k]='above 2500'\n",
    "        \n",
    "        "
   ]
  },
  {
   "cell_type": "markdown",
   "metadata": {},
   "source": [
    "## Analysis of Unfiltered vs Filtered Data"
   ]
  },
  {
   "cell_type": "code",
   "execution_count": null,
   "metadata": {},
   "outputs": [],
   "source": [
    "import pandas as pd\n",
    "import seaborn as sns\n",
    "sns.set(style=\"ticks\", color_codes=True)"
   ]
  },
  {
   "cell_type": "code",
   "execution_count": null,
   "metadata": {},
   "outputs": [],
   "source": [
    "em_data = pd.read_csv('em_'+str(case_version)+'_data.csv')"
   ]
  },
  {
   "cell_type": "code",
   "execution_count": null,
   "metadata": {},
   "outputs": [],
   "source": [
    "em_data"
   ]
  },
  {
   "cell_type": "code",
   "execution_count": null,
   "metadata": {},
   "outputs": [],
   "source": [
    "em_data[\"FSNTOA Forcing\"] = fsntoa_forc_vals_d\n",
    "em_data[\"LWC Mean\"] = lwc_mean\n",
    "em_data[\"LWC SD\"] = lwc_std\n",
    "em_data[\"Filt\"] = filt_fsntoa"
   ]
  },
  {
   "cell_type": "code",
   "execution_count": null,
   "metadata": {},
   "outputs": [],
   "source": [
    "T2 = em_data[\"Inv Lev 2 Temp\"]"
   ]
  },
  {
   "cell_type": "code",
   "execution_count": null,
   "metadata": {},
   "outputs": [],
   "source": [
    "class_T2 = [None]*634\n",
    "for k in np.arange(0,635):\n",
    "    if T2[k]<298:\n",
    "        print(k)\n",
    "        class_T2[k]='292 - 298'\n",
    "#         class_forcing[k]='below 4000'\n",
    "    else:\n",
    "        class_T2[k]='298 - 306'"
   ]
  },
  {
   "cell_type": "code",
   "execution_count": null,
   "metadata": {},
   "outputs": [],
   "source": [
    "em_data[\"class inv2 Temp\"] =class_T2"
   ]
  },
  {
   "cell_type": "code",
   "execution_count": null,
   "metadata": {
    "scrolled": true
   },
   "outputs": [],
   "source": [
    "filt_em_data = em_data[em_data['Filt'] == \"Filtered\"].copy()"
   ]
  },
  {
   "cell_type": "code",
   "execution_count": null,
   "metadata": {},
   "outputs": [],
   "source": [
    "filt_em_data"
   ]
  },
  {
   "cell_type": "code",
   "execution_count": null,
   "metadata": {},
   "outputs": [],
   "source": [
    "filt_em_data.drop('Filt', inplace=True, axis=1)\n",
    "filt_em_data.drop('class inv2 Temp', inplace=True, axis=1)"
   ]
  },
  {
   "cell_type": "code",
   "execution_count": null,
   "metadata": {},
   "outputs": [],
   "source": [
    "filt_em_data"
   ]
  },
  {
   "cell_type": "code",
   "execution_count": null,
   "metadata": {},
   "outputs": [],
   "source": [
    "filt_em_data.to_csv('filt_em_data_'+str(case_version)+'.csv')"
   ]
  },
  {
   "cell_type": "code",
   "execution_count": null,
   "metadata": {},
   "outputs": [],
   "source": [
    "sns.catplot(x=\"Inv Lev 2 Temp\", y=\"LWC Mean\", data=filt_em_data, height=5, aspect=2)"
   ]
  },
  {
   "cell_type": "code",
   "execution_count": null,
   "metadata": {},
   "outputs": [],
   "source": [
    "plt.rcParams['figure.figsize'] = 14,6\n",
    "sns.set_style(style='white')\n",
    "sns.scatterplot(x=\"Inv Lev 2 Temp\", y=\"LWC Mean\", hue=\"Inv Lev 2\", data=filt_em_data)"
   ]
  },
  {
   "cell_type": "code",
   "execution_count": null,
   "metadata": {},
   "outputs": [],
   "source": [
    "sns.catplot(x=\"Inv Lev 1\", y=\"LWC Mean\", data=filt_em_data)"
   ]
  },
  {
   "cell_type": "code",
   "execution_count": null,
   "metadata": {},
   "outputs": [],
   "source": [
    "filt_high_lwc_data = filt_em_data[filt_em_data['LWC Mean'] > 0.2].copy()"
   ]
  },
  {
   "cell_type": "code",
   "execution_count": null,
   "metadata": {},
   "outputs": [],
   "source": [
    "filt_high_lwc_data"
   ]
  },
  {
   "cell_type": "code",
   "execution_count": null,
   "metadata": {},
   "outputs": [],
   "source": [
    "sns.catplot(x=\"Inv Lev 2\", y=\"Inv Lev 2 Temp\", data=filt_high_lwc_data)"
   ]
  }
 ],
 "metadata": {
  "kernelspec": {
   "display_name": "myownvirtualenv",
   "language": "python",
   "name": "myownvirtualenv"
  },
  "language_info": {
   "codemirror_mode": {
    "name": "ipython",
    "version": 3
   },
   "file_extension": ".py",
   "mimetype": "text/x-python",
   "name": "python",
   "nbconvert_exporter": "python",
   "pygments_lexer": "ipython3",
   "version": "3.8.3"
  }
 },
 "nbformat": 4,
 "nbformat_minor": 4
}
